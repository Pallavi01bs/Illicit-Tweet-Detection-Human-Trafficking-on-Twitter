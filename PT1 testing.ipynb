{
 "cells": [
  {
   "cell_type": "code",
   "execution_count": 1,
   "id": "8efbbbae",
   "metadata": {},
   "outputs": [
    {
     "name": "stderr",
     "output_type": "stream",
     "text": [
      "[nltk_data] Downloading package stopwords to\n",
      "[nltk_data]     C:\\Users\\Pallavi\\AppData\\Roaming\\nltk_data...\n",
      "[nltk_data]   Package stopwords is already up-to-date!\n"
     ]
    }
   ],
   "source": [
    "# nltk\n",
    "\n",
    "from nltk.stem import WordNetLemmatizer\n",
    "from nltk.stem import PorterStemmer\n",
    "import nltk\n",
    "import pickle\n",
    "nltk.download('stopwords')\n",
    "\n",
    "# sklearn\n",
    "\n",
    "from sklearn.feature_extraction.text import TfidfVectorizer\n",
    "from nltk.tokenize import word_tokenize\n",
    "import re "
   ]
  },
  {
   "cell_type": "code",
   "execution_count": 2,
   "id": "5b28359f",
   "metadata": {},
   "outputs": [],
   "source": [
    "# Load the saved model and vectorizer\n",
    "\n",
    "with open('svc_model.pkl', 'rb') as f:\n",
    "    model = pickle.load(f)\n",
    "\n",
    "with open('vectorizer.pkl', 'rb') as f:\n",
    "    vectorizer = pickle.load(f)\n"
   ]
  },
  {
   "cell_type": "code",
   "execution_count": 10,
   "id": "fa05e3b0",
   "metadata": {},
   "outputs": [],
   "source": [
    "# Take input from user\n",
    "\n",
    "tweet = input(\"Enter the tweet with as to be analyzed: \")"
   ]
  },
  {
   "cell_type": "code",
   "execution_count": 4,
   "id": "b528a7f3",
   "metadata": {},
   "outputs": [],
   "source": [
    "# Preprocess the tweet using the same function used during training\n",
    "\n",
    "def clean_text(text):\n",
    "    \n",
    "    # Remove urls\n",
    "    # Remove user @ references and '#' from tweet\n",
    "    \n",
    "    text = re.sub(r'@\\w+', '', text)\n",
    "    text = re.sub(r'http.?://[^\\s]+[\\s]?', '', text)\n",
    "    text = re.sub(r'[^\\w\\s]', '', text)\n",
    "    text = re.sub(r'\\d+', '', text)\n",
    "    text = text.lower()\n",
    "    \n",
    "    # Remove stopwords\n",
    "    \n",
    "    text = word_tokenize(text)\n",
    "    \n",
    "    # from nltk.corpus import stopwords\n",
    "    \n",
    "    stop_words = set(nltk.corpus.stopwords.words('english'))\n",
    "    text = [word for word in text if not word in stop_words]\n",
    "    stemmer = PorterStemmer()\n",
    "    lemmatizer = WordNetLemmatizer()\n",
    "    text = [lemmatizer.lemmatize(stemmer.stem(word)) for word in text]\n",
    "    text = ' '.join(text)\n",
    "    return text \n"
   ]
  },
  {
   "cell_type": "code",
   "execution_count": 5,
   "id": "95a6a300",
   "metadata": {},
   "outputs": [
    {
     "name": "stdout",
     "output_type": "stream",
     "text": [
      "Today marks the end of HumanTraffickingAwarenessMonth But folks our job continues tomorrow by being more AWARE of our surroundings amp reporting something if you feel it isn t right What will YOU do 2 fight HumanTrafficking and SaveourChildren EndTrafficking HTAM2023 https t co rShKnqDEuy\n"
     ]
    }
   ],
   "source": [
    "#defining clean text\n",
    "\n",
    "def clean_text(tweet):\n",
    "    # Replace special characters with spaces\n",
    "    cleaned_tweet = ''.join([c if c.isalnum() or c.isspace() else ' ' for c in tweet])\n",
    "    # Remove extra spaces\n",
    "    cleaned_tweet = ' '.join(cleaned_tweet.split())\n",
    "    return cleaned_tweet\n",
    "\n",
    "cleaned_tweet = clean_text(tweet)\n",
    "print(cleaned_tweet)"
   ]
  },
  {
   "cell_type": "code",
   "execution_count": 6,
   "id": "7b46ffbd",
   "metadata": {},
   "outputs": [],
   "source": [
    "# will clean the text\n",
    "\n",
    "cleaned_tweet = clean_text(tweet)"
   ]
  },
  {
   "cell_type": "code",
   "execution_count": 7,
   "id": "6b5601fe",
   "metadata": {},
   "outputs": [],
   "source": [
    "# Convert the cleaned tweet to a vector\n",
    "\n",
    "vectorized_tweet = vectorizer.transform([cleaned_tweet])"
   ]
  },
  {
   "cell_type": "code",
   "execution_count": 8,
   "id": "92c5c51f",
   "metadata": {},
   "outputs": [],
   "source": [
    "# Predict the sentiment of the tweet\n",
    "\n",
    "sentiment = model.predict(vectorized_tweet)"
   ]
  },
  {
   "cell_type": "code",
   "execution_count": 9,
   "id": "07b56d58",
   "metadata": {},
   "outputs": [
    {
     "name": "stdout",
     "output_type": "stream",
     "text": [
      "It is a Negative tweet because it harmful.\n"
     ]
    }
   ],
   "source": [
    "#Predict if the tweet is positive or negative\n",
    "\n",
    "if sentiment[0] == 1:\n",
    "    print(\" It is a Positive tweet because it not harmful.\")\n",
    "else:\n",
    "    print(\"It is a Negative tweet because it harmful.\")"
   ]
  }
 ],
 "metadata": {
  "kernelspec": {
   "display_name": "Python 3 (ipykernel)",
   "language": "python",
   "name": "python3"
  },
  "language_info": {
   "codemirror_mode": {
    "name": "ipython",
    "version": 3
   },
   "file_extension": ".py",
   "mimetype": "text/x-python",
   "name": "python",
   "nbconvert_exporter": "python",
   "pygments_lexer": "ipython3",
   "version": "3.10.11"
  }
 },
 "nbformat": 4,
 "nbformat_minor": 5
}
